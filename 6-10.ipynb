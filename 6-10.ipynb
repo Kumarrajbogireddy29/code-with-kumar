{
 "cells": [
  {
   "cell_type": "code",
   "execution_count": 1,
   "id": "9c4a0fcc-7fc5-4126-b559-277d40df91e9",
   "metadata": {},
   "outputs": [
    {
     "name": "stdin",
     "output_type": "stream",
     "text": [
      "Enter the distance in kilometers: 100\n"
     ]
    },
    {
     "name": "stdout",
     "output_type": "stream",
     "text": [
      "100.0 kilometers is equal to 62.137100000000004 miles\n"
     ]
    }
   ],
   "source": [
    "kilometers=float(input(\"Enter the distance in kilometers:\"))\n",
    "conversion_factor=0.621371\n",
    "miles=kilometers*conversion_factor\n",
    "print(f\"{kilometers} kilometersyear is equal to {miles} miles\")"
   ]
  },
  {
   "cell_type": "code",
   "execution_count": null,
   "id": "a3e1c32f-7ffd-40f0-92c9-6d6a079d0dd9",
   "metadata": {},
   "outputs": [],
   "source": []
  },
  {
   "cell_type": "code",
   "execution_count": null,
   "id": "bad1e8bc-0810-4c1b-93e7-51104a44d42c",
   "metadata": {},
   "outputs": [],
   "source": [
    "#celsius  program7"
   ]
  },
  {
   "cell_type": "code",
   "execution_count": 2,
   "id": "2053e2eb-d48f-4014-8210-3d8a74430a0f",
   "metadata": {},
   "outputs": [
    {
     "name": "stdin",
     "output_type": "stream",
     "text": [
      "Enter temperature in celsius: 25\n"
     ]
    },
    {
     "name": "stdout",
     "output_type": "stream",
     "text": [
      "25.0 degree celsius is equal to 77.0 degree fahrenheit\n"
     ]
    }
   ],
   "source": [
    "celsius=float(input(\"Enter temperature in celsius:\"))\n",
    "#conversion of formula: fahrenheit = (celsius*9/5)+32\n",
    "fahrenheit =(celsius*9/5)+32\n",
    "print(f\"{celsius} degree celsius is equal to {fahrenheit} degree fahrenheit\")\n"
   ]
  },
  {
   "cell_type": "code",
   "execution_count": 4,
   "id": "e546c7fa-0fa3-471c-8911-a01b496c60e0",
   "metadata": {},
   "outputs": [
    {
     "name": "stdin",
     "output_type": "stream",
     "text": [
      "Enter the year 2026\n",
      "Enter the month 11\n"
     ]
    },
    {
     "name": "stdout",
     "output_type": "stream",
     "text": [
      "   November 2026\n",
      "Mo Tu We Th Fr Sa Su\n",
      "                   1\n",
      " 2  3  4  5  6  7  8\n",
      " 9 10 11 12 13 14 15\n",
      "16 17 18 19 20 21 22\n",
      "23 24 25 26 27 28 29\n",
      "30\n",
      "\n"
     ]
    }
   ],
   "source": [
    "import calendar #program8\n",
    "year=int(input(\"Enter the year\"))\n",
    "month=int(input(\"Enter the month\"))\n",
    "cal=calendar.month(year,month)\n",
    "print(cal)"
   ]
  },
  {
   "cell_type": "code",
   "execution_count": 5,
   "id": "41f292e9-f4b4-434b-980b-f97f3d4a715e",
   "metadata": {},
   "outputs": [
    {
     "name": "stdin",
     "output_type": "stream",
     "text": [
      "Enter the year 2004\n",
      "Enter the month 11\n"
     ]
    },
    {
     "name": "stdout",
     "output_type": "stream",
     "text": [
      "   November 2004\n",
      "Mo Tu We Th Fr Sa Su\n",
      " 1  2  3  4  5  6  7\n",
      " 8  9 10 11 12 13 14\n",
      "15 16 17 18 19 20 21\n",
      "22 23 24 25 26 27 28\n",
      "29 30\n",
      "\n"
     ]
    }
   ],
   "source": [
    "import calendar\n",
    "year=int(input(\"Enter the year\"))\n",
    "month=int(input(\"Enter the month\"))\n",
    "cal=calendar.month(year,month)\n",
    "print(cal)"
   ]
  },
  {
   "cell_type": "code",
   "execution_count": 7,
   "id": "8218eac4-edd0-49f1-83e1-bed1264abae8",
   "metadata": {},
   "outputs": [
    {
     "name": "stdin",
     "output_type": "stream",
     "text": [
      "Enter the coefficient a: 5\n",
      "Enter the coefficient b: 5\n",
      "Enter the coefficient c: 6\n"
     ]
    }
   ],
   "source": [
    "a=float(input(\"Enter the coefficient a:\"))\n",
    "b=float(input(\"Enter the coefficient b:\"))\n",
    "c=float(input(\"Enter the coefficient c:\"))\n",
    "discriminant=b**2 - 4*a*c\n",
    "\n",
    "if discriminant>0:\n",
    "    root1=(-b+math.sqrtr(discriminant))/(2*a)\n",
    "    root2=(-b+math.sqrtr(discriminant))/(2*a)\n",
    "    print(f\"Root1:{root1})\n",
    "    print(f\"Root2:{root2})\n",
    "elif discriminant == 0:\n",
    "   root=-b/(2*a)\n",
    "   print(f\"Root:{root}\")\n",
    "else:\n",
    " real_part=-b/2*a\n",
    " imaginary_part=math.sqrt(abs(discriminant))/(2*a)\n",
    " print(f\"root1:{real part} + {imaginary_part}i\")\n",
    " print(f\"root2:{real part} + {imaginary_part}i\")\n"
   ]
  },
  {
   "cell_type": "code",
   "execution_count": null,
   "id": "7f9875c2-2703-4d78-8113-9572c67b3b53",
   "metadata": {},
   "outputs": [],
   "source": []
  },
  {
   "cell_type": "code",
   "execution_count": 15,
   "id": "562dcf5a-5513-43fd-aaed-bb99b8708e6a",
   "metadata": {},
   "outputs": [
    {
     "name": "stdin",
     "output_type": "stream",
     "text": [
      "Enter the coefficient a: 2\n",
      "Enter the coefficient b: 3\n",
      "Enter the coefficient c: 5\n"
     ]
    },
    {
     "name": "stdout",
     "output_type": "stream",
     "text": [
      "root1:-3.0 + 1.3919410907075054i\n",
      "root2:-3.0 - 1.3919410907075054i\n"
     ]
    }
   ],
   "source": [
    "import math\n",
    "a=float(input(\"Enter the coefficient a:\"))\n",
    "b=float(input(\"Enter the coefficient b:\"))\n",
    "c=float(input(\"Enter the coefficient c:\"))\n",
    "discriminant=b**2 - 4*a*c\n",
    "\n",
    "if discriminant>0:\n",
    "    root1=(-b+math.sqrtr(discriminant))/(2*a)\n",
    "    root2=(-b+math.sqrtr(discriminant))/(2*a)\n",
    "    print(f\"Root1:{root1}\")\n",
    "    print(f\"Root2:{root2}\")\n",
    "elif discriminant == 0:\n",
    "   root=-b/(2*a)\n",
    "   print(f\"Root:{root}\")\n",
    "else:\n",
    " real_part=-b/2*a\n",
    " imaginary_part=math.sqrt(abs(discriminant))/(2*a)\n",
    " print(f\"root1:{real_part} + {imaginary_part}i\")\n",
    " print(f\"root2:{real_part} - {imaginary_part}i\")"
   ]
  },
  {
   "cell_type": "code",
   "execution_count": null,
   "id": "0d0fda83-2686-4015-8a77-f8b966bd5bed",
   "metadata": {},
   "outputs": [],
   "source": [
    "#swap variables program10"
   ]
  },
  {
   "cell_type": "code",
   "execution_count": 19,
   "id": "67d8d18f-4b05-4533-878d-28dac02ff117",
   "metadata": {},
   "outputs": [
    {
     "name": "stdout",
     "output_type": "stream",
     "text": [
      "before swapping a:25 and b:50\n",
      "a: 50\n",
      "b: 25\n",
      "After swapping a:50 and b:25\n"
     ]
    }
   ],
   "source": [
    "a=25\n",
    "b=50\n",
    "print(f\"before swapping a:{a} and b:{b}\")\n",
    "a,b=b,a\n",
    "print(\"a:\",a)\n",
    "print(\"b:\",b)\n",
    "print(f\"After swapping a:{a} and b:{b}\")\n",
    "\n"
   ]
  },
  {
   "cell_type": "code",
   "execution_count": null,
   "id": "6309a2a2-c084-4380-9f9e-845bf6c88edc",
   "metadata": {},
   "outputs": [],
   "source": []
  },
  {
   "cell_type": "code",
   "execution_count": null,
   "id": "81d3ae35-851a-466f-b75f-a13e54c00753",
   "metadata": {},
   "outputs": [],
   "source": []
  }
 ],
 "metadata": {
  "kernelspec": {
   "display_name": "Python 3 (ipykernel)",
   "language": "python",
   "name": "python3"
  },
  "language_info": {
   "codemirror_mode": {
    "name": "ipython",
    "version": 3
   },
   "file_extension": ".py",
   "mimetype": "text/x-python",
   "name": "python",
   "nbconvert_exporter": "python",
   "pygments_lexer": "ipython3",
   "version": "3.12.7"
  }
 },
 "nbformat": 4,
 "nbformat_minor": 5
}
